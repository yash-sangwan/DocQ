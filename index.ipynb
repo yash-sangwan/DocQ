{
 "cells": [
  {
   "cell_type": "code",
   "execution_count": null,
   "id": "e7c882e2",
   "metadata": {},
   "outputs": [
    {
     "name": "stderr",
     "output_type": "stream",
     "text": [
      "/home/ml/.conda/envs/yash/lib/python3.11/site-packages/tqdm/auto.py:21: TqdmWarning: IProgress not found. Please update jupyter and ipywidgets. See https://ipywidgets.readthedocs.io/en/stable/user_install.html\n",
      "  from .autonotebook import tqdm as notebook_tqdm\n"
     ]
    }
   ],
   "source": [
    "\n",
    "import os\n",
    "import sys\n",
    "\n",
    "# Llama-Index core pieces\n",
    "from llama_index.core import (\n",
    "    Settings, StorageContext, ServiceContext, VectorStoreIndex\n",
    ")\n",
    "from llama_index.embeddings.huggingface import HuggingFaceEmbedding\n",
    "from llama_index.vector_stores.qdrant import QdrantVectorStore\n",
    "from llama_index.core.node_parser import HierarchicalNodeParser, SentenceSplitter\n",
    "from llama_index.core.retrievers import VectorIndexRetriever, RouterRetriever\n",
    "\n",
    "# optional BM25 (comment out if the plug-in isn’t available)\n",
    "from llama_index.retrievers.bm25 import BM25Retriever\n",
    "\n",
    "# correct post-processor path\n",
    "from llama_index.core.postprocessor import SentenceTransformerRerank\n",
    "\n",
    "from llama_index.core.query_engine import RetrieverQueryEngine\n",
    "\n",
    "from llama_index.core.prompts import PromptTemplate\n",
    "from llama_index.core import (\n",
    "    SimpleDirectoryReader, VectorStoreIndex, Settings, ServiceContext\n",
    ")\n",
    "from llama_index.core.node_parser import SentenceSplitter\n",
    "from llama_index.core.retrievers import VectorIndexRetriever\n",
    "from llama_index.core.query_engine import RetrieverQueryEngine\n",
    "from llama_index.core.postprocessor import SentenceTransformerRerank\n",
    "from sentence_transformers import CrossEncoder\n",
    "\n",
    "\n",
    "import qdrant_client\n",
    "from qdrant_client.http import models as rest               \n",
    "from llama_index.vector_stores.qdrant import QdrantVectorStore\n",
    "from llama_index.core import \n",
    "\n",
    "from rich.console import Console\n",
    "from dotenv import load_dotenv\n"
   ]
  },
  {
   "cell_type": "code",
   "execution_count": null,
   "id": "88cbb168",
   "metadata": {},
   "outputs": [
    {
     "data": {
      "text/html": [
       "<pre style=\"white-space:pre;overflow-x:auto;line-height:normal;font-family:Menlo,'DejaVu Sans Mono',consolas,'Courier New',monospace\">Env loaded – Qdrant endpoint: <span style=\"color: #0000ff; text-decoration-color: #0000ff; text-decoration: underline\">https://dev.sasewa.org</span>\n",
       "</pre>\n"
      ],
      "text/plain": [
       "Env loaded – Qdrant endpoint: \u001b[4;94mhttps://dev.sasewa.org\u001b[0m\n"
      ]
     },
     "metadata": {},
     "output_type": "display_data"
    }
   ],
   "source": [
    "\n",
    "\n",
    "console = Console()\n",
    "\n",
    "# 1) Read .env (expects at least QDRANT_URL, optional QDRANT_API)\n",
    "load_dotenv()\n",
    "\n",
    "QDRANT_URL = os.getenv(\"QDRANT_URL\")\n",
    "QDRANT_API = os.getenv(\"QDRANT_API\", \"\")\n",
    "\n",
    "# 2) Basic sanity check — stop early if URL missing\n",
    "if not QDRANT_URL:\n",
    "    console.print(\"QDRANT_URL not set in .env\")\n",
    "    raise SystemExit(1)\n",
    "\n",
    "console.print(f\"Env loaded – Qdrant endpoint: {QDRANT_URL}\")"
   ]
  },
  {
   "cell_type": "code",
   "execution_count": null,
   "id": "49a3729d",
   "metadata": {},
   "outputs": [
    {
     "data": {
      "text/html": [
       "<pre style=\"white-space:pre;overflow-x:auto;line-height:normal;font-family:Menlo,'DejaVu Sans Mono',consolas,'Courier New',monospace\">LLM and embedding model ready\n",
       "</pre>\n"
      ],
      "text/plain": [
       "LLM and embedding model ready\n"
      ]
     },
     "metadata": {},
     "output_type": "display_data"
    }
   ],
   "source": [
    "#  Language model: local Ollama running Llama-3-8B\n",
    "from llama_index.core import Settings\n",
    "from llama_index.embeddings.huggingface import HuggingFaceEmbedding\n",
    "from llama_index.llms.ollama import Ollama\n",
    "\n",
    "llm = Ollama(\n",
    "    base_url=os.getenv(\"OLLAMA_URL\"),   \n",
    "    model=\"llama3.1:8b\",\n",
    "    request_timeout=60.0,                  \n",
    ")\n",
    "\n",
    "#  Embedding model: BGE-large (≈1 GB VRAM).  Fallback to base if OOM.\n",
    "\n",
    "try:\n",
    "    embed_model = HuggingFaceEmbedding(model_name=\"BAAI/bge-large-en\")\n",
    "except RuntimeError as oom:                  # GPU out-of-memory\n",
    "    console.print(\"Falling back to bge-base-en-v1.5\")\n",
    "    embed_model = HuggingFaceEmbedding(model_name=\"BAAI/bge-base-en-v1.5\")\n",
    "\n",
    "Settings.llm = llm\n",
    "Settings.embed_model = embed_model           # register globally\n",
    "console.print(\"LLM and embedding model ready\")"
   ]
  },
  {
   "cell_type": "code",
   "execution_count": null,
   "id": "ac395c48",
   "metadata": {},
   "outputs": [
    {
     "data": {
      "text/html": [
       "<pre style=\"white-space:pre;overflow-x:auto;line-height:normal;font-family:Menlo,'DejaVu Sans Mono',consolas,'Courier New',monospace\">Connected to Qdrant\n",
       "</pre>\n"
      ],
      "text/plain": [
       "Connected to Qdrant\n"
      ]
     },
     "metadata": {},
     "output_type": "display_data"
    },
    {
     "data": {
      "text/html": [
       "<pre style=\"white-space:pre;overflow-x:auto;line-height:normal;font-family:Menlo,'DejaVu Sans Mono',consolas,'Courier New',monospace\">  Collection <span style=\"color: #008000; text-decoration-color: #008000\">'data'</span> already exists\n",
       "</pre>\n"
      ],
      "text/plain": [
       "  Collection \u001b[32m'data'\u001b[0m already exists\n"
      ]
     },
     "metadata": {},
     "output_type": "display_data"
    },
    {
     "data": {
      "text/html": [
       "<pre style=\"white-space:pre;overflow-x:auto;line-height:normal;font-family:Menlo,'DejaVu Sans Mono',consolas,'Courier New',monospace\">Vector store ready → collection: data\n",
       "</pre>\n"
      ],
      "text/plain": [
       "Vector store ready → collection: data\n"
      ]
     },
     "metadata": {},
     "output_type": "display_data"
    }
   ],
   "source": [
    "\n",
    "COLLECTION = \"data\"                                         # one-PDF project\n",
    "\n",
    "# ── 1) Build the client ──────\n",
    "client = qdrant_client.QdrantClient(\n",
    "    url=QDRANT_URL,   # cname endpoint\n",
    "    api_key=QDRANT_API,                    # None ⇒ no auth\n",
    "    https=True,\n",
    "    port=443,\n",
    "    prefer_grpc=False,                                          # stick to REST\n",
    "    timeout=60.0,\n",
    ")\n",
    "\n",
    "# quick ping (raises if DNS or TLS fails)\n",
    "client.get_collections()\n",
    "console.print(\"Connected to Qdrant\")\n",
    "\n",
    "# ── 2) Ensure the collection exists (creates it if absent) ────\n",
    "existing = {c.name for c in client.get_collections().collections}\n",
    "\n",
    "if COLLECTION not in existing:\n",
    "    # determine vector size once from the embed model\n",
    "    vec_dim = len(embed_model.get_query_embedding(\"dim-check\"))\n",
    "    client.create_collection(\n",
    "        collection_name=COLLECTION,\n",
    "        vectors_config=rest.VectorParams(\n",
    "            size=vec_dim,\n",
    "            distance=rest.Distance.COSINE,\n",
    "        ),\n",
    "        optimizers_config=rest.OptimizersConfigDiff(memmap_threshold=20000),\n",
    "    )\n",
    "    console.print(\n",
    "        f\"Created new collection '{COLLECTION}' (dim = {vec_dim})\")\n",
    "else:\n",
    "    console.print(f\"  Collection '{COLLECTION}' already exists\")\n",
    "\n",
    "# ── 3) Wrap it for Llama-Index ────────────────────────────────────\n",
    "vector_store = QdrantVectorStore(client=client, collection_name=COLLECTION)\n",
    "storage_context = StorageContext.from_defaults(vector_store=vector_store)\n",
    "\n",
    "console.print(f\"Vector store ready → collection: {COLLECTION}\")"
   ]
  },
  {
   "cell_type": "code",
   "execution_count": 5,
   "id": "63d696c5",
   "metadata": {},
   "outputs": [
    {
     "data": {
      "text/html": [
       "<pre style=\"white-space:pre;overflow-x:auto;line-height:normal;font-family:Menlo,'DejaVu Sans Mono',consolas,'Courier New',monospace\">  Parsed <span style=\"color: #008080; text-decoration-color: #008080; font-weight: bold\">186</span> chunks from <span style=\"color: #008080; text-decoration-color: #008080; font-weight: bold\">20</span> <span style=\"color: #800080; text-decoration-color: #800080; font-weight: bold\">PDF</span><span style=\"font-weight: bold\">(</span>s<span style=\"font-weight: bold\">)</span>\n",
       "</pre>\n"
      ],
      "text/plain": [
       "  Parsed \u001b[1;36m186\u001b[0m chunks from \u001b[1;36m20\u001b[0m \u001b[1;35mPDF\u001b[0m\u001b[1m(\u001b[0ms\u001b[1m)\u001b[0m\n"
      ]
     },
     "metadata": {},
     "output_type": "display_data"
    },
    {
     "data": {
      "text/html": [
       "<pre style=\"white-space:pre;overflow-x:auto;line-height:normal;font-family:Menlo,'DejaVu Sans Mono',consolas,'Courier New',monospace\">  Chunks embedded and stored in Qdrant\n",
       "</pre>\n"
      ],
      "text/plain": [
       "  Chunks embedded and stored in Qdrant\n"
      ]
     },
     "metadata": {},
     "output_type": "display_data"
    },
    {
     "data": {
      "text/html": [
       "<pre style=\"white-space:pre;overflow-x:auto;line-height:normal;font-family:Menlo,'DejaVu Sans Mono',consolas,'Courier New',monospace\">  Query engine started \n",
       "</pre>\n"
      ],
      "text/plain": [
       "  Query engine started \n"
      ]
     },
     "metadata": {},
     "output_type": "display_data"
    }
   ],
   "source": [
    "# 1)  Load & split PDF(s)\n",
    "\n",
    "docs_dir = \"docs\"\n",
    "documents = SimpleDirectoryReader(docs_dir, required_exts=[\".pdf\"]).load_data()\n",
    "\n",
    "splitter = SentenceSplitter(chunk_size=150, chunk_overlap=40)\n",
    "nodes = splitter.get_nodes_from_documents(documents)\n",
    "console.print(\n",
    "    f\"  Parsed {len(nodes)} chunks from {len(documents)} PDF(s)\")\n",
    "\n",
    "# 2)  Embed + store in Qdrant\n",
    "\n",
    "index = VectorStoreIndex(nodes, storage_context=storage_context)\n",
    "console.print(\"  Chunks embedded and stored in Qdrant\")\n",
    "\n",
    "# 3)  Build a vector retriever  (top-k = 20)\n",
    "\n",
    "vector_retriever = VectorIndexRetriever(index=index, similarity_top_k=30)\n",
    "\n",
    "# 4)  Cross-encoder reranker  — robust to old & new signatures\n",
    "\n",
    "MODEL_NAME = \"cross-encoder/ms-marco-MiniLM-L-12-v2\"\n",
    "\n",
    "try:\n",
    "    # Newer API: keyword args (top_n first), model as string\n",
    "    reranker = SentenceTransformerRerank(top_n=12, model=MODEL_NAME)\n",
    "except TypeError:\n",
    "    # Older API: (model, top_n) positional\n",
    "    reranker = SentenceTransformerRerank(MODEL_NAME, 8)\n",
    "\n",
    "\n",
    "# 5)  Assemble the query engine  – proper PromptTemplate\n",
    "\n",
    "QA_PROMPT = PromptTemplate(\n",
    "    template=(\n",
    "        \"You are an academic advisor for the IIT-Madras BS programme. \"\n",
    "        \"Answer fully and quote numbers exactly as they appear in the context.\\n\\n\"\n",
    "        \"If the context does not explicitly give a number, answer ‘Not specified in the document’.\\n\\n\"\n",
    "        \"<context>\\n{context_str}\\n</context>\\n\\n\"\n",
    "        \"Q: {query_str}\\nA:\"\n",
    "    )\n",
    ")\n",
    "\n",
    "query_engine = RetrieverQueryEngine.from_args(\n",
    "    retriever=vector_retriever,\n",
    "    llm=llm,\n",
    "    node_postprocessors=[reranker],\n",
    "    response_mode=\"compact\",\n",
    "    text_qa_template=QA_PROMPT,\n",
    ")\n",
    "\n",
    "# 6)  Helper function\n",
    "\n",
    "\n",
    "def answer(query: str) -> str:\n",
    "    \"\"\"Ask a question and return the model’s answer as plain text.\"\"\"\n",
    "    try:\n",
    "        return query_engine.query(query).response\n",
    "    except Exception as exc:\n",
    "        console.print(f\"  Query failed: {exc}\")\n",
    "        return \"\"\n",
    "\n",
    "\n",
    "console.print(\"  Query engine started \")"
   ]
  },
  {
   "cell_type": "code",
   "execution_count": 6,
   "id": "8e4c0ece",
   "metadata": {
    "vscode": {
     "languageId": "javascript"
    }
   },
   "outputs": [
    {
     "data": {
      "text/html": [
       "<pre style=\"white-space:pre;overflow-x:auto;line-height:normal;font-family:Menlo,'DejaVu Sans Mono',consolas,'Courier New',monospace\">According to the text, it requires a CGPA ≥ <span style=\"color: #008080; text-decoration-color: #008080; font-weight: bold\">8.0</span>.\n",
       "</pre>\n"
      ],
      "text/plain": [
       "According to the text, it requires a CGPA ≥ \u001b[1;36m8.0\u001b[0m.\n"
      ]
     },
     "metadata": {},
     "output_type": "display_data"
    }
   ],
   "source": [
    "console.print(answer(\" what CGPA does it require after completing BS-level credits to be eligible for the MS by research pathway?\"))"
   ]
  },
  {
   "cell_type": "code",
   "execution_count": 7,
   "id": "607047be",
   "metadata": {
    "vscode": {
     "languageId": "javascript"
    }
   },
   "outputs": [
    {
     "data": {
      "text/html": [
       "<pre style=\"white-space:pre;overflow-x:auto;line-height:normal;font-family:Menlo,'DejaVu Sans Mono',consolas,'Courier New',monospace\">According to the context, the overall time limit to finish the entire programme is **<span style=\"color: #008080; text-decoration-color: #008080; font-weight: bold\">96</span> months** <span style=\"font-weight: bold\">(</span><span style=\"color: #008080; text-decoration-color: #008080; font-weight: bold\">8</span> years/<span style=\"color: #008080; text-decoration-color: #008080; font-weight: bold\">24</span> \n",
       "terms<span style=\"font-weight: bold\">)</span>.\n",
       "</pre>\n"
      ],
      "text/plain": [
       "According to the context, the overall time limit to finish the entire programme is **\u001b[1;36m96\u001b[0m months** \u001b[1m(\u001b[0m\u001b[1;36m8\u001b[0m years/\u001b[1;36m24\u001b[0m \n",
       "terms\u001b[1m)\u001b[0m.\n"
      ]
     },
     "metadata": {},
     "output_type": "display_data"
    }
   ],
   "source": [
    "console.print(answer(\"what is the overall time limit to finish the entire programme?\"))"
   ]
  },
  {
   "cell_type": "code",
   "execution_count": 8,
   "id": "1699c650",
   "metadata": {
    "vscode": {
     "languageId": "javascript"
    }
   },
   "outputs": [
    {
     "data": {
      "text/html": [
       "<pre style=\"white-space:pre;overflow-x:auto;line-height:normal;font-family:Menlo,'DejaVu Sans Mono',consolas,'Courier New',monospace\">According to section <span style=\"color: #008080; text-decoration-color: #008080; font-weight: bold\">13.5</span>.<span style=\"color: #008080; text-decoration-color: #008080; font-weight: bold\">1</span>, Registering for Courses: Term <span style=\"color: #008080; text-decoration-color: #008080; font-weight: bold\">2</span> Onwards:\n",
       "\n",
       "●Maximum number of final exams <span style=\"font-weight: bold\">(</span>full course+makeup exams<span style=\"font-weight: bold\">)</span> &lt;= <span style=\"color: #008080; text-decoration-color: #008080; font-weight: bold\">4</span>\n",
       "\n",
       "So, the maximum number of final exams that a student can register for in a single term is **FOUR**.\n",
       "</pre>\n"
      ],
      "text/plain": [
       "According to section \u001b[1;36m13.5\u001b[0m.\u001b[1;36m1\u001b[0m, Registering for Courses: Term \u001b[1;36m2\u001b[0m Onwards:\n",
       "\n",
       "●Maximum number of final exams \u001b[1m(\u001b[0mfull course+makeup exams\u001b[1m)\u001b[0m <= \u001b[1;36m4\u001b[0m\n",
       "\n",
       "So, the maximum number of final exams that a student can register for in a single term is **FOUR**.\n"
      ]
     },
     "metadata": {},
     "output_type": "display_data"
    }
   ],
   "source": [
    "console.print(answer(\"what is the maximum number of final exams (full-course + make-up) that a student can register for in a single term?\"))"
   ]
  }
 ],
 "metadata": {
  "kernelspec": {
   "display_name": "yash",
   "language": "python",
   "name": "python3"
  },
  "language_info": {
   "codemirror_mode": {
    "name": "ipython",
    "version": 3
   },
   "file_extension": ".py",
   "mimetype": "text/x-python",
   "name": "python",
   "nbconvert_exporter": "python",
   "pygments_lexer": "ipython3",
   "version": "3.11.13"
  }
 },
 "nbformat": 4,
 "nbformat_minor": 5
}
